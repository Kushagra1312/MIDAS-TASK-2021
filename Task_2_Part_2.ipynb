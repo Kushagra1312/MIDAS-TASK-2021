{
  "nbformat": 4,
  "nbformat_minor": 0,
  "metadata": {
    "colab": {
      "name": "Task 2 Part 2.ipynb",
      "provenance": [],
      "collapsed_sections": []
    },
    "kernelspec": {
      "display_name": "Python 3",
      "name": "python3"
    },
    "language_info": {
      "name": "python"
    }
  },
  "cells": [
    {
      "cell_type": "markdown",
      "metadata": {
        "id": "YM4kvjJtOOht"
      },
      "source": [
        "\n",
        "### Installing the requirements\n"
      ]
    },
    {
      "cell_type": "code",
      "metadata": {
        "colab": {
          "base_uri": "https://localhost:8080/"
        },
        "id": "CIQuVet_bqag",
        "outputId": "a794f9d3-31f0-4a07-d29d-545129bcd218"
      },
      "source": [
        "pip install idx2numpy"
      ],
      "execution_count": null,
      "outputs": [
        {
          "output_type": "stream",
          "text": [
            "Requirement already satisfied: idx2numpy in /usr/local/lib/python3.7/dist-packages (1.2.3)\n",
            "Requirement already satisfied: six in /usr/local/lib/python3.7/dist-packages (from idx2numpy) (1.15.0)\n",
            "Requirement already satisfied: numpy in /usr/local/lib/python3.7/dist-packages (from idx2numpy) (1.19.5)\n"
          ],
          "name": "stdout"
        }
      ]
    },
    {
      "cell_type": "markdown",
      "metadata": {
        "id": "wF4T-NVcO5t4"
      },
      "source": [
        "### Importing the Required Packages"
      ]
    },
    {
      "cell_type": "code",
      "metadata": {
        "id": "HQc0rNOAdaKr"
      },
      "source": [
        "import idx2numpy\n",
        "import numpy as np\n",
        "from matplotlib import pyplot \n",
        "import cv2"
      ],
      "execution_count": null,
      "outputs": []
    },
    {
      "cell_type": "markdown",
      "metadata": {
        "id": "u5VPaeHjQBq5"
      },
      "source": [
        "### Loading the Dataset\n",
        "\n",
        "Source:-<a href='url'>https://stackoverflow.com/questions/40427435/extract-images-from-idx3-ubyte-file-or-gzip-via-python </a>"
      ]
    },
    {
      "cell_type": "code",
      "metadata": {
        "id": "c5vMCqwuQS8i"
      },
      "source": [
        "def load_dataset(file_path_img,file_path_label):\n",
        "  X=idx2numpy.convert_from_file(file_path_img)\n",
        "  y=idx2numpy.convert_from_file(file_path_label)\n",
        "  return X,y"
      ],
      "execution_count": null,
      "outputs": []
    },
    {
      "cell_type": "code",
      "metadata": {
        "id": "DqoyPhD0Qz3M"
      },
      "source": [
        "train_img_path=\"/content/drive/MyDrive/task2/train-images.idx3-ubyte\"\n",
        "train_label_path=\"/content/drive/MyDrive/task2/train-labels.idx1-ubyte\""
      ],
      "execution_count": null,
      "outputs": []
    },
    {
      "cell_type": "code",
      "metadata": {
        "id": "L2lQ1vCQQuGc"
      },
      "source": [
        "X,y=load_dataset(train_img_path,train_label_path)"
      ],
      "execution_count": null,
      "outputs": []
    },
    {
      "cell_type": "code",
      "metadata": {
        "colab": {
          "base_uri": "https://localhost:8080/"
        },
        "id": "9yUw_tnSQ_3g",
        "outputId": "e1cf486d-bdff-4400-cd64-8c3eeb875f18"
      },
      "source": [
        "print(len(X),len(y))"
      ],
      "execution_count": null,
      "outputs": [
        {
          "output_type": "stream",
          "text": [
            "60000 60000\n"
          ],
          "name": "stdout"
        }
      ]
    },
    {
      "cell_type": "code",
      "metadata": {
        "colab": {
          "base_uri": "https://localhost:8080/"
        },
        "id": "iYJIBKC4fs4w",
        "outputId": "86b9f932-8409-4d03-a532-4b606d239471"
      },
      "source": [
        "X.shape"
      ],
      "execution_count": null,
      "outputs": [
        {
          "output_type": "execute_result",
          "data": {
            "text/plain": [
              "(60000, 28, 28)"
            ]
          },
          "metadata": {
            "tags": []
          },
          "execution_count": 60
        }
      ]
    },
    {
      "cell_type": "markdown",
      "metadata": {
        "id": "yZNYvzKjRVmO"
      },
      "source": [
        "<ul>\n",
        "<li>Visualising the train images.</li>\n",
        "</ul>"
      ]
    },
    {
      "cell_type": "code",
      "metadata": {
        "colab": {
          "base_uri": "https://localhost:8080/",
          "height": 268
        },
        "id": "6DTUOB2Rf6WO",
        "outputId": "4c27ee2d-f8b2-4e47-8336-939fffb94098"
      },
      "source": [
        "for i in range(9):\n",
        "\t# define subplot\n",
        "\tpyplot.subplot(330 + 1 + i)\n",
        "\t# plot raw pixel data\n",
        "\tpyplot.imshow(X[i].reshape(28,28))"
      ],
      "execution_count": null,
      "outputs": [
        {
          "output_type": "display_data",
          "data": {
            "image/png": "[encoded data removed]",
            "text/plain": [
              "<Figure size 432x288 with 9 Axes>"
            ]
          },
          "metadata": {
            "tags": [],
            "needs_background": "light"
          }
        }
      ]
    },
    {
      "cell_type": "markdown",
      "metadata": {
        "id": "YAhUt_Z0SbFT"
      },
      "source": [
        "### Preprocessing the images.\n",
        "<ul>\n",
        "<li>The function img_preprocess preprocesses our image.</li>\n",
        "<li>It converts the image into grayscale and resizes it to (32,32) and normalises the pixel values.</li>\n",
        "</ul>"
      ]
    },
    {
      "cell_type": "markdown",
      "metadata": {
        "id": "ldtQ4D8XS_HR"
      },
      "source": [
        "<ul><li>Importing the req. packages. </li>\n",
        "</ul>"
      ]
    },
    {
      "cell_type": "code",
      "metadata": {
        "id": "uijqtSejS9vv"
      },
      "source": [
        "from keras.preprocessing import image\n",
        "from keras.utils import to_categorical"
      ],
      "execution_count": null,
      "outputs": []
    },
    {
      "cell_type": "code",
      "metadata": {
        "id": "jpz-6n0lS-ZH"
      },
      "source": [
        "def img_preprocess(img_vector):\n",
        "  x_final=[]\n",
        "  for i in range(0,len(img_vector)):\n",
        "    img = img_vector[i]\n",
        "    res = cv2.resize(img, dsize=(32, 32))\n",
        "    data = image.img_to_array(res)\n",
        "    x_final.append(data/255.0)\n",
        "  return np.array(x_final)"
      ],
      "execution_count": null,
      "outputs": []
    },
    {
      "cell_type": "markdown",
      "metadata": {
        "id": "_au5qg58khTj"
      },
      "source": [
        "<li>Calling the img_preprocess function.</li>\n",
        "\n",
        "\n",
        "\n"
      ]
    },
    {
      "cell_type": "code",
      "metadata": {
        "id": "sGQI1utPUMZ5"
      },
      "source": [
        "X_final=img_preprocess(X)"
      ],
      "execution_count": null,
      "outputs": []
    },
    {
      "cell_type": "code",
      "metadata": {
        "colab": {
          "base_uri": "https://localhost:8080/"
        },
        "id": "LVAyWVDHU-IL",
        "outputId": "3ed8f0fc-fc4d-43d8-8347-8876950c8745"
      },
      "source": [
        "X_final.shape"
      ],
      "execution_count": null,
      "outputs": [
        {
          "output_type": "execute_result",
          "data": {
            "text/plain": [
              "(60000, 32, 32, 1)"
            ]
          },
          "metadata": {
            "tags": []
          },
          "execution_count": 65
        }
      ]
    },
    {
      "cell_type": "code",
      "metadata": {
        "colab": {
          "base_uri": "https://localhost:8080/"
        },
        "id": "odIzRcexgW1q",
        "outputId": "3bd5d591-913a-43e2-ba26-5c4e28324a28"
      },
      "source": [
        "y = np.array(y)\n",
        "y.shape"
      ],
      "execution_count": null,
      "outputs": [
        {
          "output_type": "execute_result",
          "data": {
            "text/plain": [
              "(60000,)"
            ]
          },
          "metadata": {
            "tags": []
          },
          "execution_count": 66
        }
      ]
    },
    {
      "cell_type": "markdown",
      "metadata": {
        "id": "s5eyAWLukx7p"
      },
      "source": [
        "<li>Converting the labels into categorical array.</li>"
      ]
    },
    {
      "cell_type": "code",
      "metadata": {
        "id": "h2hkjuxYg_37"
      },
      "source": [
        "y = to_categorical(y,num_classes=10, dtype = 'int')"
      ],
      "execution_count": null,
      "outputs": []
    },
    {
      "cell_type": "code",
      "metadata": {
        "colab": {
          "base_uri": "https://localhost:8080/"
        },
        "id": "aUfL-HPohBtO",
        "outputId": "061557c2-d582-4640-f65a-5e445a8eec27"
      },
      "source": [
        "y.shape"
      ],
      "execution_count": null,
      "outputs": [
        {
          "output_type": "execute_result",
          "data": {
            "text/plain": [
              "(60000, 10)"
            ]
          },
          "metadata": {
            "tags": []
          },
          "execution_count": 68
        }
      ]
    },
    {
      "cell_type": "markdown",
      "metadata": {
        "id": "fvhfNtPOVfbL"
      },
      "source": [
        "### Splitting the dataset into train and cross validation set."
      ]
    },
    {
      "cell_type": "markdown",
      "metadata": {
        "id": "W1ZlQiZxzI7Q"
      },
      "source": [
        "I splitted the train set into cross val set to keep a track of underfit,overfit and bestfit of the model."
      ]
    },
    {
      "cell_type": "code",
      "metadata": {
        "id": "a2V7hIfEhDQf"
      },
      "source": [
        "from sklearn.model_selection import train_test_split\n",
        "X_train, X_val, y_train, y_val= train_test_split(X_final, y, test_size=0.2, random_state=0)"
      ],
      "execution_count": null,
      "outputs": []
    },
    {
      "cell_type": "markdown",
      "metadata": {
        "id": "iK-Xm2YYWn9b"
      },
      "source": [
        "### Training the pretrained model."
      ]
    },
    {
      "cell_type": "markdown",
      "metadata": {
        "id": "hUYyExLPaGiC"
      },
      "source": [
        "<ul>\n",
        "<li>Importing packages</li>\n",
        "</ul>"
      ]
    },
    {
      "cell_type": "code",
      "metadata": {
        "id": "NGGNkRcvaL0W"
      },
      "source": [
        "from keras.models import load_model\n",
        "from keras.models import Sequential\n",
        "from keras.layers.core import Flatten, Dense, Dropout\n",
        "from keras.layers.convolutional import Convolution2D, MaxPooling2D, ZeroPadding2D\n",
        "from keras.optimizers import SGD\n",
        "from keras.layers import Conv2D,MaxPooling2D, AveragePooling2D , BatchNormalization\n",
        "from keras.utils.np_utils import to_categorical\n",
        "from keras.optimizers import Adam\n",
        "from keras.regularizers import L2\n",
        "from keras.callbacks import  ModelCheckpoint"
      ],
      "execution_count": null,
      "outputs": []
    },
    {
      "cell_type": "code",
      "metadata": {
        "id": "R_O15NgaWtzc"
      },
      "source": [
        "prev_model=load_model(\"/content/drive/MyDrive/Saved_Material_task2_part 1/Model.epoch09.hdf5\")"
      ],
      "execution_count": null,
      "outputs": []
    },
    {
      "cell_type": "markdown",
      "metadata": {
        "id": "ue097jeq1C-j"
      },
      "source": [
        "<li>Popping the last layer as the dataset contains 10 classes.</li>"
      ]
    },
    {
      "cell_type": "code",
      "metadata": {
        "id": "dMoJvohNaXng"
      },
      "source": [
        "prev_model.pop()"
      ],
      "execution_count": null,
      "outputs": []
    },
    {
      "cell_type": "code",
      "metadata": {
        "colab": {
          "base_uri": "https://localhost:8080/"
        },
        "id": "8jidfmGWaaL_",
        "outputId": "639ffe34-712f-40df-babc-2a6d48909e8c"
      },
      "source": [
        "prev_model.summary()"
      ],
      "execution_count": null,
      "outputs": [
        {
          "output_type": "stream",
          "text": [
            "Model: \"sequential_19\"\n",
            "_________________________________________________________________\n",
            "Layer (type)                 Output Shape              Param #   \n",
            "=================================================================\n",
            "conv2d_57 (Conv2D)           (None, 28, 28, 32)        832       \n",
            "_________________________________________________________________\n",
            "batch_normalization_40 (Batc (None, 28, 28, 32)        128       \n",
            "_________________________________________________________________\n",
            "max_pooling2d_49 (MaxPooling (None, 14, 14, 32)        0         \n",
            "_________________________________________________________________\n",
            "conv2d_58 (Conv2D)           (None, 12, 12, 32)        9248      \n",
            "_________________________________________________________________\n",
            "batch_normalization_41 (Batc (None, 12, 12, 32)        128       \n",
            "_________________________________________________________________\n",
            "max_pooling2d_50 (MaxPooling (None, 6, 6, 32)          0         \n",
            "_________________________________________________________________\n",
            "conv2d_59 (Conv2D)           (None, 4, 4, 64)          18496     \n",
            "_________________________________________________________________\n",
            "batch_normalization_42 (Batc (None, 4, 4, 64)          256       \n",
            "_________________________________________________________________\n",
            "max_pooling2d_51 (MaxPooling (None, 2, 2, 64)          0         \n",
            "_________________________________________________________________\n",
            "flatten_19 (Flatten)         (None, 256)               0         \n",
            "_________________________________________________________________\n",
            "dense_55 (Dense)             (None, 128)               32896     \n",
            "_________________________________________________________________\n",
            "dense_56 (Dense)             (None, 64)                8256      \n",
            "=================================================================\n",
            "Total params: 70,240\n",
            "Trainable params: 69,984\n",
            "Non-trainable params: 256\n",
            "_________________________________________________________________\n"
          ],
          "name": "stdout"
        }
      ]
    },
    {
      "cell_type": "markdown",
      "metadata": {
        "id": "1B_qyQst2Cg5"
      },
      "source": [
        "<li>Adding a softmax layer for 10 classes.</li>"
      ]
    },
    {
      "cell_type": "code",
      "metadata": {
        "id": "vz3lwqIWajAe"
      },
      "source": [
        "pretrain_model=Sequential()\n",
        "pretrain_model.add(prev_model)\n",
        "pretrain_model.add(Dense(10,activation='softmax'))"
      ],
      "execution_count": null,
      "outputs": []
    },
    {
      "cell_type": "code",
      "metadata": {
        "id": "fmmfsAfXbjS4"
      },
      "source": [
        "pretrain_model.compile(optimizer='adam',loss='categorical_crossentropy',metrics=['accuracy'])"
      ],
      "execution_count": null,
      "outputs": []
    },
    {
      "cell_type": "code",
      "metadata": {
        "colab": {
          "base_uri": "https://localhost:8080/"
        },
        "id": "_ysWZcRta9Gp",
        "outputId": "a8c422c8-af72-4b8f-8640-d5965b48079c"
      },
      "source": [
        "pretrain_model.summary()"
      ],
      "execution_count": null,
      "outputs": [
        {
          "output_type": "stream",
          "text": [
            "Model: \"sequential\"\n",
            "_________________________________________________________________\n",
            "Layer (type)                 Output Shape              Param #   \n",
            "=================================================================\n",
            "sequential_19 (Sequential)   (None, 64)                70240     \n",
            "_________________________________________________________________\n",
            "dense (Dense)                (None, 10)                650       \n",
            "=================================================================\n",
            "Total params: 70,890\n",
            "Trainable params: 70,634\n",
            "Non-trainable params: 256\n",
            "_________________________________________________________________\n"
          ],
          "name": "stdout"
        }
      ]
    },
    {
      "cell_type": "markdown",
      "metadata": {
        "id": "KpBDM0cZ1G3-"
      },
      "source": [
        "<li>Setting path to save model checkpoints.</li>"
      ]
    },
    {
      "cell_type": "code",
      "metadata": {
        "id": "aPVfEQrDfrSW"
      },
      "source": [
        "model_path='Pretrained_Model.epoch{epoch:02d}.hdf5'\n",
        "checkpoint= ModelCheckpoint(filepath='/content/drive/MyDrive/Saved_material_task2_part 2/'+model_path,verbose=1)"
      ],
      "execution_count": null,
      "outputs": []
    },
    {
      "cell_type": "markdown",
      "metadata": {
        "id": "wBTI_T7s1H58"
      },
      "source": [
        "<li>Training on the training dataset. I chose batch_size=256 because there were 48,000 images in training dataset. Hence to ensure every class was present in every batch.</li>"
      ]
    },
    {
      "cell_type": "code",
      "metadata": {
        "colab": {
          "base_uri": "https://localhost:8080/"
        },
        "id": "uUYaPFusbLzH",
        "outputId": "05da92f6-c93f-48dc-c6a3-ccd9b13546dd"
      },
      "source": [
        "history=pretrain_model.fit(X_train,y_train,batch_size=256,validation_data=(X_val,y_val),epochs=10,callbacks=checkpoint)"
      ],
      "execution_count": null,
      "outputs": [
        {
          "output_type": "stream",
          "text": [
            "Epoch 1/10\n",
            "188/188 [==============================] - 57s 296ms/step - loss: 0.7050 - accuracy: 0.8284 - val_loss: 0.1723 - val_accuracy: 0.9469\n",
            "\n",
            "Epoch 00001: saving model to /content/drive/MyDrive/Saved_material_task2_part 2/Pretrained_Model.epoch01.hdf5\n",
            "Epoch 2/10\n",
            "188/188 [==============================] - 55s 293ms/step - loss: 0.0457 - accuracy: 0.9869 - val_loss: 0.0946 - val_accuracy: 0.9716\n",
            "\n",
            "Epoch 00002: saving model to /content/drive/MyDrive/Saved_material_task2_part 2/Pretrained_Model.epoch02.hdf5\n",
            "Epoch 3/10\n",
            "188/188 [==============================] - 55s 294ms/step - loss: 0.0302 - accuracy: 0.9903 - val_loss: 0.0391 - val_accuracy: 0.9883\n",
            "\n",
            "Epoch 00003: saving model to /content/drive/MyDrive/Saved_material_task2_part 2/Pretrained_Model.epoch03.hdf5\n",
            "Epoch 4/10\n",
            "188/188 [==============================] - 55s 294ms/step - loss: 0.0199 - accuracy: 0.9938 - val_loss: 0.0479 - val_accuracy: 0.9843\n",
            "\n",
            "Epoch 00004: saving model to /content/drive/MyDrive/Saved_material_task2_part 2/Pretrained_Model.epoch04.hdf5\n",
            "Epoch 5/10\n",
            "188/188 [==============================] - 55s 295ms/step - loss: 0.0133 - accuracy: 0.9960 - val_loss: 0.0417 - val_accuracy: 0.9867\n",
            "\n",
            "Epoch 00005: saving model to /content/drive/MyDrive/Saved_material_task2_part 2/Pretrained_Model.epoch05.hdf5\n",
            "Epoch 6/10\n",
            "188/188 [==============================] - 55s 294ms/step - loss: 0.0160 - accuracy: 0.9948 - val_loss: 0.0382 - val_accuracy: 0.9886\n",
            "\n",
            "Epoch 00006: saving model to /content/drive/MyDrive/Saved_material_task2_part 2/Pretrained_Model.epoch06.hdf5\n",
            "Epoch 7/10\n",
            "188/188 [==============================] - 55s 295ms/step - loss: 0.0113 - accuracy: 0.9967 - val_loss: 0.0469 - val_accuracy: 0.9876\n",
            "\n",
            "Epoch 00007: saving model to /content/drive/MyDrive/Saved_material_task2_part 2/Pretrained_Model.epoch07.hdf5\n",
            "Epoch 8/10\n",
            "188/188 [==============================] - 56s 296ms/step - loss: 0.0087 - accuracy: 0.9976 - val_loss: 0.0448 - val_accuracy: 0.9874\n",
            "\n",
            "Epoch 00008: saving model to /content/drive/MyDrive/Saved_material_task2_part 2/Pretrained_Model.epoch08.hdf5\n",
            "Epoch 9/10\n",
            "188/188 [==============================] - 56s 296ms/step - loss: 0.0063 - accuracy: 0.9981 - val_loss: 0.0369 - val_accuracy: 0.9901\n",
            "\n",
            "Epoch 00009: saving model to /content/drive/MyDrive/Saved_material_task2_part 2/Pretrained_Model.epoch09.hdf5\n",
            "Epoch 10/10\n",
            "188/188 [==============================] - 56s 297ms/step - loss: 0.0086 - accuracy: 0.9972 - val_loss: 0.0489 - val_accuracy: 0.9874\n",
            "\n",
            "Epoch 00010: saving model to /content/drive/MyDrive/Saved_material_task2_part 2/Pretrained_Model.epoch10.hdf5\n"
          ],
          "name": "stdout"
        }
      ]
    },
    {
      "cell_type": "markdown",
      "metadata": {
        "id": "Us9YFul7gj1m"
      },
      "source": [
        "<ul>\n",
        "<li>Plot of accuracy. </li>\n",
        "</ul>"
      ]
    },
    {
      "cell_type": "markdown",
      "metadata": {
        "id": "9LMVEW7btlcT"
      },
      "source": [
        "**Note:- By mistake i have written the title of plot as Training and validation Loss and the ylabel as Loss. I have actually plotted the accuracy curve only. The title must have been Training and validation accuray and the ylabel as Accuracy and the labels as well must have been train accuracy for red line and validation accuracy for yellow line.I deeply apologize for my mistake.** "
      ]
    },
    {
      "cell_type": "code",
      "metadata": {
        "colab": {
          "base_uri": "https://localhost:8080/",
          "height": 295
        },
        "id": "T_BeE0aZgezR",
        "outputId": "6277ce4e-ac37-4f17-f12e-34cd176ea7f1"
      },
      "source": [
        "epochs = range(1,11)\n",
        "pyplot.plot(epochs, history.history['accuracy'], 'r', label='Training loss')\n",
        "pyplot.plot(epochs, history.history['val_accuracy'], 'y', label='validation loss')\n",
        "pyplot.title('Training and Validation Loss')\n",
        "pyplot.xlabel('Epochs')\n",
        "pyplot.ylabel('Loss')\n",
        "pyplot.legend()\n",
        "pyplot.show()"
      ],
      "execution_count": null,
      "outputs": [
        {
          "output_type": "display_data",
          "data": {
            "image/png": "[encoded data removed]",
            "text/plain": [
              "<Figure size 432x288 with 1 Axes>"
            ]
          },
          "metadata": {
            "tags": [],
            "needs_background": "light"
          }
        }
      ]
    },
    {
      "cell_type": "markdown",
      "metadata": {
        "id": "bKEi3aUlgqG-"
      },
      "source": [
        "<ul>\n",
        "<li> Plot of loss function. </li>\n",
        "</ul>"
      ]
    },
    {
      "cell_type": "code",
      "metadata": {
        "colab": {
          "base_uri": "https://localhost:8080/",
          "height": 295
        },
        "id": "aJ2tbndDgppi",
        "outputId": "7d94d697-664d-4878-e22d-066dd7f301ed"
      },
      "source": [
        "epochs = range(1,11)\n",
        "pyplot.plot(epochs, history.history['loss'], 'r', label='Training loss')\n",
        "pyplot.plot(epochs, history.history['val_loss'], 'y', label='validation loss')\n",
        "pyplot.title('Training and Validation loss')\n",
        "pyplot.xlabel('Epochs')\n",
        "pyplot.ylabel('Loss')\n",
        "pyplot.legend()\n",
        "pyplot.show()"
      ],
      "execution_count": null,
      "outputs": [
        {
          "output_type": "display_data",
          "data": {
            "image/png": "[encoded data removed]",
            "text/plain": [
              "<Figure size 432x288 with 1 Axes>"
            ]
          },
          "metadata": {
            "tags": [],
            "needs_background": "light"
          }
        }
      ]
    },
    {
      "cell_type": "markdown",
      "metadata": {
        "id": "Bh1SJ8vwi23K"
      },
      "source": [
        "### Training the Untrained Model"
      ]
    },
    {
      "cell_type": "code",
      "metadata": {
        "id": "TWnbLsxNi9L6"
      },
      "source": [
        "untrained_model=Sequential()\n",
        "untrained_model.add(Conv2D(32,(5,5),activation='relu',input_shape=(32,32,1)))\n",
        "untrained_model.add(BatchNormalization())\n",
        "untrained_model.add(MaxPooling2D(2,2))\n",
        "untrained_model.add(Conv2D(32,(3,3),activation='relu'))\n",
        "untrained_model.add(BatchNormalization())\n",
        "untrained_model.add(MaxPooling2D(2,2))\n",
        "untrained_model.add(Conv2D(64,(3,3),activation='relu'))\n",
        "untrained_model.add(BatchNormalization())\n",
        "untrained_model.add(MaxPooling2D(2,2))\n",
        "untrained_model.add(Flatten())\n",
        "untrained_model.add(Dense(128,activation='relu'))\n",
        "untrained_model.add(Dense(64,activation='relu'))\n",
        "untrained_model.add(Dense(10,activation='softmax'))"
      ],
      "execution_count": null,
      "outputs": []
    },
    {
      "cell_type": "code",
      "metadata": {
        "id": "GW33On4QjCdv"
      },
      "source": [
        "untrained_model.compile(optimizer='adam',loss='categorical_crossentropy',metrics=['accuracy'])"
      ],
      "execution_count": null,
      "outputs": []
    },
    {
      "cell_type": "code",
      "metadata": {
        "id": "xbrF1uvsjTQv"
      },
      "source": [
        "untrained_model_path='Untrained_Model.epoch{epoch:02d}.hdf5'\n",
        "checkpoint_2= ModelCheckpoint(filepath='/content/drive/MyDrive/Saved_material_task2_part 2/'+untrained_model_path,verbose=1)"
      ],
      "execution_count": null,
      "outputs": []
    },
    {
      "cell_type": "code",
      "metadata": {
        "colab": {
          "base_uri": "https://localhost:8080/"
        },
        "id": "4SnMZQb9jesB",
        "outputId": "a42292ab-d388-4c4d-bb69-b5bd3966251f"
      },
      "source": [
        "history=untrained_model.fit(X_train,y_train,batch_size=256,validation_data=(X_val,y_val),epochs=10,callbacks=checkpoint_2)"
      ],
      "execution_count": null,
      "outputs": [
        {
          "output_type": "stream",
          "text": [
            "Epoch 1/10\n",
            "188/188 [==============================] - 56s 294ms/step - loss: 0.5422 - accuracy: 0.8455 - val_loss: 2.0318 - val_accuracy: 0.4285\n",
            "\n",
            "Epoch 00001: saving model to /content/drive/MyDrive/Saved_material_task2_part 2/Untrained_Model.epoch01.hdf5\n",
            "Epoch 2/10\n",
            "188/188 [==============================] - 55s 292ms/step - loss: 0.0462 - accuracy: 0.9857 - val_loss: 0.6350 - val_accuracy: 0.8339\n",
            "\n",
            "Epoch 00002: saving model to /content/drive/MyDrive/Saved_material_task2_part 2/Untrained_Model.epoch02.hdf5\n",
            "Epoch 3/10\n",
            "188/188 [==============================] - 55s 292ms/step - loss: 0.0306 - accuracy: 0.9909 - val_loss: 0.0854 - val_accuracy: 0.9737\n",
            "\n",
            "Epoch 00003: saving model to /content/drive/MyDrive/Saved_material_task2_part 2/Untrained_Model.epoch03.hdf5\n",
            "Epoch 4/10\n",
            "188/188 [==============================] - 55s 292ms/step - loss: 0.0197 - accuracy: 0.9938 - val_loss: 0.0440 - val_accuracy: 0.9869\n",
            "\n",
            "Epoch 00004: saving model to /content/drive/MyDrive/Saved_material_task2_part 2/Untrained_Model.epoch04.hdf5\n",
            "Epoch 5/10\n",
            "188/188 [==============================] - 55s 292ms/step - loss: 0.0153 - accuracy: 0.9954 - val_loss: 0.0428 - val_accuracy: 0.9877\n",
            "\n",
            "Epoch 00005: saving model to /content/drive/MyDrive/Saved_material_task2_part 2/Untrained_Model.epoch05.hdf5\n",
            "Epoch 6/10\n",
            "188/188 [==============================] - 55s 293ms/step - loss: 0.0099 - accuracy: 0.9972 - val_loss: 0.0397 - val_accuracy: 0.9883\n",
            "\n",
            "Epoch 00006: saving model to /content/drive/MyDrive/Saved_material_task2_part 2/Untrained_Model.epoch06.hdf5\n",
            "Epoch 7/10\n",
            "188/188 [==============================] - 55s 292ms/step - loss: 0.0103 - accuracy: 0.9969 - val_loss: 0.0442 - val_accuracy: 0.9883\n",
            "\n",
            "Epoch 00007: saving model to /content/drive/MyDrive/Saved_material_task2_part 2/Untrained_Model.epoch07.hdf5\n",
            "Epoch 8/10\n",
            "188/188 [==============================] - 55s 293ms/step - loss: 0.0086 - accuracy: 0.9971 - val_loss: 0.0530 - val_accuracy: 0.9862\n",
            "\n",
            "Epoch 00008: saving model to /content/drive/MyDrive/Saved_material_task2_part 2/Untrained_Model.epoch08.hdf5\n",
            "Epoch 9/10\n",
            "188/188 [==============================] - 55s 292ms/step - loss: 0.0076 - accuracy: 0.9975 - val_loss: 0.0476 - val_accuracy: 0.9888\n",
            "\n",
            "Epoch 00009: saving model to /content/drive/MyDrive/Saved_material_task2_part 2/Untrained_Model.epoch09.hdf5\n",
            "Epoch 10/10\n",
            "188/188 [==============================] - 55s 292ms/step - loss: 0.0069 - accuracy: 0.9979 - val_loss: 0.0582 - val_accuracy: 0.9860\n",
            "\n",
            "Epoch 00010: saving model to /content/drive/MyDrive/Saved_material_task2_part 2/Untrained_Model.epoch10.hdf5\n"
          ],
          "name": "stdout"
        }
      ]
    },
    {
      "cell_type": "markdown",
      "metadata": {
        "id": "z_hbDTormiVD"
      },
      "source": [
        "<ul>\n",
        "<li> Plot of loss function. </li>\n",
        "</ul>"
      ]
    },
    {
      "cell_type": "code",
      "metadata": {
        "colab": {
          "base_uri": "https://localhost:8080/",
          "height": 295
        },
        "id": "RexMc3dbmgeJ",
        "outputId": "aac3534a-4dc7-435a-b3a9-b9792a6d5625"
      },
      "source": [
        "epochs = range(1,11)\n",
        "pyplot.plot(epochs, history.history['loss'], 'r', label='Training loss')\n",
        "pyplot.plot(epochs, history.history['val_loss'], 'y', label='validation loss')\n",
        "pyplot.title('Training and Validation loss')\n",
        "pyplot.xlabel('Epochs')\n",
        "pyplot.ylabel('Loss')\n",
        "pyplot.legend()\n",
        "pyplot.show()"
      ],
      "execution_count": null,
      "outputs": [
        {
          "output_type": "display_data",
          "data": {
            "image/png": "[encoded data removed]",
            "text/plain": [
              "<Figure size 432x288 with 1 Axes>"
            ]
          },
          "metadata": {
            "tags": [],
            "needs_background": "light"
          }
        }
      ]
    },
    {
      "cell_type": "markdown",
      "metadata": {
        "id": "Auvy_dpRml6g"
      },
      "source": [
        "<ul>\n",
        "<li>Plot of accuracy. </li>\n",
        "</ul>"
      ]
    },
    {
      "cell_type": "code",
      "metadata": {
        "colab": {
          "base_uri": "https://localhost:8080/",
          "height": 295
        },
        "id": "d8-f4nUOmc9G",
        "outputId": "81165130-4311-4806-f745-ce4a67479746"
      },
      "source": [
        "epochs = range(1,11)\n",
        "pyplot.plot(epochs, history.history['accuracy'], 'r', label='Training accuracy')\n",
        "pyplot.plot(epochs, history.history['val_accuracy'], 'y', label='validation accuracy')\n",
        "pyplot.title('Training and Validation accuracy')\n",
        "pyplot.xlabel('Epochs')\n",
        "pyplot.ylabel('Accuracy')\n",
        "pyplot.legend()\n",
        "pyplot.show()"
      ],
      "execution_count": null,
      "outputs": [
        {
          "output_type": "display_data",
          "data": {
            "image/png": "[encoded data removed]",
            "text/plain": [
              "<Figure size 432x288 with 1 Axes>"
            ]
          },
          "metadata": {
            "tags": [],
            "needs_background": "light"
          }
        }
      ]
    },
    {
      "cell_type": "markdown",
      "metadata": {
        "id": "oroDEHMeVnr3"
      },
      "source": [
        "### Loading the test data"
      ]
    },
    {
      "cell_type": "code",
      "metadata": {
        "id": "U519LujK4muh"
      },
      "source": [
        "test_img_path='/content/drive/MyDrive/task2/t10k-images.idx3-ubyte'\n",
        "test_label_path='/content/drive/MyDrive/task2/t10k-labels.idx1-ubyte'\n",
        "X_test,y_test=load_dataset(test_img_path,test_label_path)"
      ],
      "execution_count": null,
      "outputs": []
    },
    {
      "cell_type": "code",
      "metadata": {
        "colab": {
          "base_uri": "https://localhost:8080/"
        },
        "id": "2hNvoTNi5MKK",
        "outputId": "77835b16-ba12-4806-9207-cad08f4c85ae"
      },
      "source": [
        "print(X_test.shape,y_test.shape)"
      ],
      "execution_count": null,
      "outputs": [
        {
          "output_type": "stream",
          "text": [
            "(10000, 28, 28) (10000,)\n"
          ],
          "name": "stdout"
        }
      ]
    },
    {
      "cell_type": "markdown",
      "metadata": {
        "id": "4y9WETviWF3K"
      },
      "source": [
        "### Preprocessing the test data."
      ]
    },
    {
      "cell_type": "code",
      "metadata": {
        "id": "pOOoIRFx5Rjg"
      },
      "source": [
        "X_final_test=img_preprocess(X_test)"
      ],
      "execution_count": null,
      "outputs": []
    },
    {
      "cell_type": "code",
      "metadata": {
        "colab": {
          "base_uri": "https://localhost:8080/"
        },
        "id": "m5-0zskq5mxm",
        "outputId": "9ad1609c-b1b8-4895-e0e4-6fa982a4717d"
      },
      "source": [
        "X_final_test.shape"
      ],
      "execution_count": null,
      "outputs": [
        {
          "output_type": "execute_result",
          "data": {
            "text/plain": [
              "(10000, 32, 32, 1)"
            ]
          },
          "metadata": {
            "tags": []
          },
          "execution_count": 14
        }
      ]
    },
    {
      "cell_type": "markdown",
      "metadata": {
        "id": "1JGaY2dUWRML"
      },
      "source": [
        "<ul>\n",
        "<li>Converting the labels into categorical array.</li>\n",
        "</ul>"
      ]
    },
    {
      "cell_type": "code",
      "metadata": {
        "id": "NEASmFTg5pvU"
      },
      "source": [
        "y_test = to_categorical(y_test,num_classes=10, dtype = 'int')"
      ],
      "execution_count": null,
      "outputs": []
    },
    {
      "cell_type": "markdown",
      "metadata": {
        "id": "LuVE96T7WdZ4"
      },
      "source": [
        "### Evaluating the pretrained Model."
      ]
    },
    {
      "cell_type": "markdown",
      "metadata": {
        "id": "dQE4DPEotd5P"
      },
      "source": [
        "<ul>\n",
        "<li>Evaluating on last epoch.</li>\n",
        "</ul>"
      ]
    },
    {
      "cell_type": "code",
      "metadata": {
        "colab": {
          "base_uri": "https://localhost:8080/"
        },
        "id": "ezad3y6952so",
        "outputId": "9642d16b-115b-4697-bf40-2096d6d339b5"
      },
      "source": [
        "pretrain_model.evaluate(X_final_test,y_test)"
      ],
      "execution_count": null,
      "outputs": [
        {
          "output_type": "stream",
          "text": [
            "313/313 [==============================] - 4s 12ms/step - loss: 0.0417 - accuracy: 0.9901\n"
          ],
          "name": "stdout"
        },
        {
          "output_type": "execute_result",
          "data": {
            "text/plain": [
              "[0.04167608916759491, 0.9901000261306763]"
            ]
          },
          "metadata": {
            "tags": []
          },
          "execution_count": 33
        }
      ]
    },
    {
      "cell_type": "markdown",
      "metadata": {
        "id": "ktIVLY4Hzp6W"
      },
      "source": [
        "<li>Storing the predictions of the model </li>"
      ]
    },
    {
      "cell_type": "code",
      "metadata": {
        "id": "zwGQsnFnVkj-"
      },
      "source": [
        "y_pred_label=pretrain_model.predict(X_final_test)"
      ],
      "execution_count": null,
      "outputs": []
    },
    {
      "cell_type": "code",
      "metadata": {
        "colab": {
          "base_uri": "https://localhost:8080/"
        },
        "id": "ZwYCBQBiVu4p",
        "outputId": "894f3745-351a-4d9d-f785-ea6ccfe9942c"
      },
      "source": [
        "y_pred_label.shape"
      ],
      "execution_count": null,
      "outputs": [
        {
          "output_type": "execute_result",
          "data": {
            "text/plain": [
              "(10000, 10)"
            ]
          },
          "metadata": {
            "tags": []
          },
          "execution_count": 21
        }
      ]
    },
    {
      "cell_type": "code",
      "metadata": {
        "id": "neo2K-E1WP20"
      },
      "source": [
        "y_pred_categorical=np.zeros((10000,10))"
      ],
      "execution_count": null,
      "outputs": []
    },
    {
      "cell_type": "markdown",
      "metadata": {
        "id": "bqX6CLomzTzF"
      },
      "source": [
        "### Creating a cateogrical vector which contains 0's and it would contain 1 corresponding to the predicted class."
      ]
    },
    {
      "cell_type": "code",
      "metadata": {
        "id": "dxVouelTWXnM"
      },
      "source": [
        "for i in range(0,len(y_pred_label)):\n",
        "  idx=np.argmax(y_pred_label[i])\n",
        "  for j in range(0,len(y_pred_label[i])):\n",
        "    if j==idx:\n",
        "      y_pred_categorical[i][j]=1\n",
        "    else:\n",
        "       y_pred_categorical[i][j]=0"
      ],
      "execution_count": null,
      "outputs": []
    },
    {
      "cell_type": "code",
      "metadata": {
        "id": "05ZE9t7oWz0Y"
      },
      "source": [
        "y_pred_categorical=y_pred_categorical.astype(int)"
      ],
      "execution_count": null,
      "outputs": []
    },
    {
      "cell_type": "code",
      "metadata": {
        "colab": {
          "base_uri": "https://localhost:8080/"
        },
        "id": "2SweWO7KXC-A",
        "outputId": "4898f4be-a634-4c9d-b37e-b93df1ec3891"
      },
      "source": [
        "y_pred_categorical.shape"
      ],
      "execution_count": null,
      "outputs": [
        {
          "output_type": "execute_result",
          "data": {
            "text/plain": [
              "(10000, 10)"
            ]
          },
          "metadata": {
            "tags": []
          },
          "execution_count": 30
        }
      ]
    },
    {
      "cell_type": "markdown",
      "metadata": {
        "id": "fqM9xo-tgP91"
      },
      "source": [
        "<ul>\n",
        "<li>Calculating the precision_score</li>\n",
        "</ul>"
      ]
    },
    {
      "cell_type": "code",
      "metadata": {
        "colab": {
          "base_uri": "https://localhost:8080/"
        },
        "id": "rGG3wP2IXFgt",
        "outputId": "183b31e5-61d6-4b0a-8c16-46dc501e80ff"
      },
      "source": [
        "from sklearn.metrics import precision_score\n",
        "print(precision_score(y_pred_categorical,y_test,average='macro'))"
      ],
      "execution_count": null,
      "outputs": [
        {
          "output_type": "stream",
          "text": [
            "0.9899755106583263\n"
          ],
          "name": "stdout"
        }
      ]
    },
    {
      "cell_type": "markdown",
      "metadata": {
        "id": "MsDF_9AmgNKo"
      },
      "source": [
        "<ul>\n",
        "<li>Calculating the recall_score</li>\n",
        "</ul>"
      ]
    },
    {
      "cell_type": "code",
      "metadata": {
        "colab": {
          "base_uri": "https://localhost:8080/"
        },
        "id": "ZbwF8pZ1XXBz",
        "outputId": "ad7a4ffc-3e8a-4e13-9c1b-00238874e5b8"
      },
      "source": [
        "from sklearn.metrics import recall_score\n",
        "print(recall_score(y_pred_categorical,y_test,average='macro'))"
      ],
      "execution_count": null,
      "outputs": [
        {
          "output_type": "stream",
          "text": [
            "0.9902150265694909\n"
          ],
          "name": "stdout"
        }
      ]
    },
    {
      "cell_type": "markdown",
      "metadata": {
        "id": "rWI66MqUuEVQ"
      },
      "source": [
        "### Evaluating the untrained Model."
      ]
    },
    {
      "cell_type": "markdown",
      "metadata": {
        "id": "MFKyt2ZsuTF7"
      },
      "source": [
        "<ul>\n",
        "<li>Evaluating on last epoch.</li>\n",
        "</ul>"
      ]
    },
    {
      "cell_type": "code",
      "metadata": {
        "colab": {
          "base_uri": "https://localhost:8080/"
        },
        "id": "OY0kvYMUuQA8",
        "outputId": "bb4a335b-8c4b-4c1f-c306-6857b6273012"
      },
      "source": [
        "untrained_model.evaluate(X_final_test,y_test)"
      ],
      "execution_count": null,
      "outputs": [
        {
          "output_type": "stream",
          "text": [
            "313/313 [==============================] - 4s 11ms/step - loss: 0.0522 - accuracy: 0.9864\n"
          ],
          "name": "stdout"
        },
        {
          "output_type": "execute_result",
          "data": {
            "text/plain": [
              "[0.05224138870835304, 0.9864000082015991]"
            ]
          },
          "metadata": {
            "tags": []
          },
          "execution_count": 80
        }
      ]
    },
    {
      "cell_type": "markdown",
      "metadata": {
        "id": "YiXjw3pTzv8f"
      },
      "source": [
        "<li>Storing the predictions of the model </li>"
      ]
    },
    {
      "cell_type": "code",
      "metadata": {
        "id": "Fz0LdNUjYYLI"
      },
      "source": [
        "y_pred_untrain=untrained_model.predict(X_final_test)"
      ],
      "execution_count": null,
      "outputs": []
    },
    {
      "cell_type": "code",
      "metadata": {
        "id": "0xX-p9slYyVX"
      },
      "source": [
        "y_categorical=np.zeros((10000,10))"
      ],
      "execution_count": null,
      "outputs": []
    },
    {
      "cell_type": "markdown",
      "metadata": {
        "id": "SUCM4XJPzxCP"
      },
      "source": [
        "### Creating a cateogrical vector which contains 0's and it would contain 1 corresponding to the predicted class."
      ]
    },
    {
      "cell_type": "code",
      "metadata": {
        "id": "IyppSrnGucD2"
      },
      "source": [
        "for i in range(0,len(y_pred_untrain)):\n",
        "  idx=np.argmax(y_pred_untrain[i])\n",
        "  for j in range(0,len(y_pred_untrain[i])):\n",
        "    if j==idx:\n",
        "      y_categorical[i][j]=1\n",
        "    else:\n",
        "       y_categorical[i][j]=0"
      ],
      "execution_count": null,
      "outputs": []
    },
    {
      "cell_type": "code",
      "metadata": {
        "id": "GveD0gFDY4HB"
      },
      "source": [
        "y_categorical=y_categorical.astype(int)"
      ],
      "execution_count": null,
      "outputs": []
    },
    {
      "cell_type": "markdown",
      "metadata": {
        "id": "e6Wl6-7mf4bP"
      },
      "source": [
        "<ul>\n",
        "<li>Calculating the precision_score</li>\n",
        "</ul>"
      ]
    },
    {
      "cell_type": "code",
      "metadata": {
        "colab": {
          "base_uri": "https://localhost:8080/"
        },
        "id": "-d9Zqg7bY72d",
        "outputId": "b67c0dc9-dcce-4a10-eef9-632da71f3a27"
      },
      "source": [
        "from sklearn.metrics import precision_score\n",
        "print(precision_score(y_categorical,y_test,average='macro'))"
      ],
      "execution_count": null,
      "outputs": [
        {
          "output_type": "stream",
          "text": [
            "0.987295072657238\n"
          ],
          "name": "stdout"
        }
      ]
    },
    {
      "cell_type": "markdown",
      "metadata": {
        "id": "6BbVvhthgJE5"
      },
      "source": [
        "<ul>\n",
        "<li>Calculating the recall_score</li>\n",
        "</ul>"
      ]
    },
    {
      "cell_type": "code",
      "metadata": {
        "colab": {
          "base_uri": "https://localhost:8080/"
        },
        "id": "CIMjT5K8Y_g9",
        "outputId": "29e53f64-dc3b-44aa-8dc6-0c2edaf16b29"
      },
      "source": [
        "from sklearn.metrics import recall_score\n",
        "print(recall_score(y_categorical,y_test,average='macro'))"
      ],
      "execution_count": null,
      "outputs": [
        {
          "output_type": "stream",
          "text": [
            "0.9875369910319683\n"
          ],
          "name": "stdout"
        }
      ]
    },
    {
      "cell_type": "markdown",
      "metadata": {
        "id": "3W5VXHuUfA_h"
      },
      "source": [
        "<ul>\n",
        "I chose average ='macro' in the recall_score and precision_score because\n",
        "<li>It calculates metrics for each label and finds their unweighted mean and it does not take class imbalance into account.</li>\n",
        "</ul>"
      ]
    },
    {
      "cell_type": "markdown",
      "metadata": {
        "id": "q9Qg1aP8ZSci"
      },
      "source": [
        "<table style=\"width:100%\">\n",
        "  <tr>\n",
        "    <th>Parameter</th>\n",
        "    <th>Pretrained Model</th> \n",
        "    <th>Untrained Model/Randomly intialised model</th>\n",
        "  </tr>\n",
        "  <tr>\n",
        "    <td>Precision Score</td>\n",
        "    <td>98.997 %</td>\n",
        "    <td>98.729 %</td>\n",
        "  </tr>\n",
        "  <tr>\n",
        "    <td>Recall Score</td>\n",
        "    <td>99.021 %</td>\n",
        "    <td>98.753 %</td>\n",
        "  </tr>\n",
        "  <tr>\n",
        "    <td>Convergence Time</td>\n",
        "    <td>As pretraining a model is also known as Transfer Learning. <br> \n",
        "    So the pretrained model converges faster as compared to the <br>\n",
        "    randomly intialised model because the pretrain model was already <br>\n",
        "    diversified as it was trained on other dataset as well which also <br>\n",
        "    contained numbers in addition to alphabets.Hence the weights were tuned<br> for predicting numbers .So the model was able <br>\n",
        "    to learn faster and hence it was able to converge faster.</td>\n",
        "    <td>The randomly intialised model on the other hand was intialised <br>\n",
        "        with random weights hence it first had to tune it's weight for<br>\n",
        "         the data and hence it took longer time to converge. <br>\n",
        "     </td>\n",
        "    </tr>\n",
        "    <tr>\n",
        "<td> Accuracy </td>\n",
        "<td> 99.01 %</td>\n",
        "<td> 98.64 %</td>\n",
        "  </tr>\n",
        "</table>"
      ]
    },
    {
      "cell_type": "code",
      "metadata": {
        "id": "Q6hPmiPtZu49"
      },
      "source": [
        ""
      ],
      "execution_count": null,
      "outputs": []
    }
  ]
}