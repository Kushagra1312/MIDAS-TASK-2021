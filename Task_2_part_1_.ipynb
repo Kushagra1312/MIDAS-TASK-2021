{
  "nbformat": 4,
  "nbformat_minor": 0,
  "metadata": {
    "accelerator": "GPU",
    "colab": {
      "name": "Task 2 part 1 .ipynb",
      "provenance": [],
      "collapsed_sections": []
    },
    "kernelspec": {
      "display_name": "Python 3",
      "name": "python3"
    },
    "language_info": {
      "name": "python"
    }
  },
  "cells": [
    {
      "cell_type": "markdown",
      "metadata": {
        "id": "di--8Cp9HeGf"
      },
      "source": [
        "### Importing the different packages reqd."
      ]
    },
    {
      "cell_type": "code",
      "metadata": {
        "id": "D6khJGK5Hbix"
      },
      "source": [
        "import string\n",
        "import os\n",
        "import cv2\n",
        "import pandas as pd\n",
        "import numpy as np\n",
        "from matplotlib import pyplot"
      ],
      "execution_count": 1,
      "outputs": []
    },
    {
      "cell_type": "code",
      "metadata": {
        "id": "-pVZ9gpdSYmj"
      },
      "source": [
        "main_path='/content/drive/MyDrive/train/' # This is stores the path of the dataset present in my drive"
      ],
      "execution_count": null,
      "outputs": []
    },
    {
      "cell_type": "markdown",
      "metadata": {
        "id": "wSbzyRR_H3OP"
      },
      "source": [
        "### Creating labels for the dataset"
      ]
    },
    {
      "cell_type": "markdown",
      "metadata": {
        "id": "z2lSQN41J4PT"
      },
      "source": [
        "<ul>\n",
        "<li>The labels are in the form of a dictionary.</li>\n",
        "<li>Each 62 numbers i.e from 0-61 represents a unique class eg:- 10 corresponds to A,so on.</li>\n",
        "</ul>\n"
      ]
    },
    {
      "cell_type": "code",
      "metadata": {
        "id": "PsbHUqHKG4PX"
      },
      "source": [
        "def create_labels(): \n",
        "  labels={}\n",
        "  count=0\n",
        "  for i in range(0,10):\n",
        "    labels[i]=i\n",
        "    count+=1\n",
        "  upper_case_alphabets = string.ascii_uppercase\n",
        "  for i in upper_case_alphabets:\n",
        "    labels[count]=i\n",
        "    count+=1\n",
        "  lower_case_alphabets = string.ascii_lowercase\n",
        "\n",
        "  for i in lower_case_alphabets:\n",
        "    labels[count]=i\n",
        "    count+=1\n",
        "  \n",
        "  return labels,count"
      ],
      "execution_count": null,
      "outputs": []
    },
    {
      "cell_type": "code",
      "metadata": {
        "id": "8gOoOokkT5JH"
      },
      "source": [
        "labels,count= create_labels()"
      ],
      "execution_count": null,
      "outputs": []
    },
    {
      "cell_type": "code",
      "metadata": {
        "colab": {
          "base_uri": "https://localhost:8080/"
        },
        "id": "VnGi7vbaHNl2",
        "outputId": "f00af683-ea09-4086-cac1-dc6cf9930a17"
      },
      "source": [
        "count"
      ],
      "execution_count": null,
      "outputs": [
        {
          "output_type": "execute_result",
          "data": {
            "text/plain": [
              "62"
            ]
          },
          "metadata": {
            "tags": []
          },
          "execution_count": 5
        }
      ]
    },
    {
      "cell_type": "code",
      "metadata": {
        "colab": {
          "base_uri": "https://localhost:8080/"
        },
        "id": "SjRSqlLiVP2g",
        "outputId": "b9f2d627-a455-4111-9c93-265e6a6fcf99"
      },
      "source": [
        "print(labels)"
      ],
      "execution_count": null,
      "outputs": [
        {
          "output_type": "stream",
          "text": [
            "{0: 0, 1: 1, 2: 2, 3: 3, 4: 4, 5: 5, 6: 6, 7: 7, 8: 8, 9: 9, 10: 'A', 11: 'B', 12: 'C', 13: 'D', 14: 'E', 15: 'F', 16: 'G', 17: 'H', 18: 'I', 19: 'J', 20: 'K', 21: 'L', 22: 'M', 23: 'N', 24: 'O', 25: 'P', 26: 'Q', 27: 'R', 28: 'S', 29: 'T', 30: 'U', 31: 'V', 32: 'W', 33: 'X', 34: 'Y', 35: 'Z', 36: 'a', 37: 'b', 38: 'c', 39: 'd', 40: 'e', 41: 'f', 42: 'g', 43: 'h', 44: 'i', 45: 'j', 46: 'k', 47: 'l', 48: 'm', 49: 'n', 50: 'o', 51: 'p', 52: 'q', 53: 'r', 54: 's', 55: 't', 56: 'u', 57: 'v', 58: 'w', 59: 'x', 60: 'y', 61: 'z'}\n"
          ],
          "name": "stdout"
        }
      ]
    },
    {
      "cell_type": "markdown",
      "metadata": {
        "id": "Dx_kNk-PjRQX"
      },
      "source": [
        "### Storing the path of images and their corresponding labels"
      ]
    },
    {
      "cell_type": "markdown",
      "metadata": {
        "id": "gT6rWxNqKbWz"
      },
      "source": [
        "<ul>\n",
        "<li>In this step i stored the path of the images in my x and the corresponding label of the image in y.</li>\n",
        "</ul>"
      ]
    },
    {
      "cell_type": "markdown",
      "metadata": {
        "id": "hL3T9TVsIvB7"
      },
      "source": [
        "The function *create_data* stores the paths of the images."
      ]
    },
    {
      "cell_type": "code",
      "metadata": {
        "id": "4tmbLspzEe_b"
      },
      "source": [
        "def create_data():\n",
        "  X = []\n",
        "  y = []\n",
        "  for k in range(1,63):  # Since there are 62 labels\n",
        "    path_1 = str('{:03}'.format(k)); # This stores the number like 001,002,003,etc.\n",
        "    for i in range(1,60):\n",
        "      path_of_folder = 'Sample'+path_1 # Stores the path of folder like Sample001, Sample002\n",
        "      path_of_data = path_of_folder+'/img'+path_1+'-'+str('{:03}'.format(i)) +'.png' # Stores the image path in the folder \n",
        "      if os.path.exists(main_path + path_of_data):\n",
        "        X.append(path_of_data)\n",
        "        y.append(k-1)  \n",
        "      else:\n",
        "        continue\n",
        "  return X,y"
      ],
      "execution_count": null,
      "outputs": []
    },
    {
      "cell_type": "code",
      "metadata": {
        "id": "n8qYO81QEqLg"
      },
      "source": [
        "X,y=create_data()"
      ],
      "execution_count": null,
      "outputs": []
    },
    {
      "cell_type": "code",
      "metadata": {
        "colab": {
          "base_uri": "https://localhost:8080/",
          "height": 37
        },
        "id": "OP7Sd56FVW3T",
        "outputId": "d3119351-831a-4795-dbf3-2778afccbf1d"
      },
      "source": [
        "X[0]"
      ],
      "execution_count": null,
      "outputs": [
        {
          "output_type": "execute_result",
          "data": {
            "application/vnd.google.colaboratory.intrinsic+json": {
              "type": "string"
            },
            "text/plain": [
              "'Sample001/img001-001.png'"
            ]
          },
          "metadata": {
            "tags": []
          },
          "execution_count": 148
        }
      ]
    },
    {
      "cell_type": "code",
      "metadata": {
        "colab": {
          "base_uri": "https://localhost:8080/"
        },
        "id": "vZ1Lm65_JXxO",
        "outputId": "5ed866e1-78d6-42c0-c49a-bc7dd41a4f4c"
      },
      "source": [
        "len(X)"
      ],
      "execution_count": null,
      "outputs": [
        {
          "output_type": "execute_result",
          "data": {
            "text/plain": [
              "2480"
            ]
          },
          "metadata": {
            "tags": []
          },
          "execution_count": 149
        }
      ]
    },
    {
      "cell_type": "markdown",
      "metadata": {
        "id": "IxvRYEqwKvNh"
      },
      "source": [
        "<ul>\n",
        "<li>\n",
        "Plotted and visualised few images from dataset.\n",
        "</li>\n",
        "</ul>"
      ]
    },
    {
      "cell_type": "code",
      "metadata": {
        "id": "tRaOh8j1VYFn"
      },
      "source": [
        "img = cv2.imread(main_path+'Sample001/img001-001.png')"
      ],
      "execution_count": null,
      "outputs": []
    },
    {
      "cell_type": "code",
      "metadata": {
        "colab": {
          "base_uri": "https://localhost:8080/"
        },
        "id": "77lDlaE8Xd3f",
        "outputId": "c9398713-da19-461c-95e6-27dd56dc3f08"
      },
      "source": [
        "img.shape"
      ],
      "execution_count": null,
      "outputs": [
        {
          "output_type": "execute_result",
          "data": {
            "text/plain": [
              "(900, 1200, 3)"
            ]
          },
          "metadata": {
            "tags": []
          },
          "execution_count": 141
        }
      ]
    },
    {
      "cell_type": "code",
      "metadata": {
        "colab": {
          "base_uri": "https://localhost:8080/",
          "height": 286
        },
        "id": "5lzRnY7bJChm",
        "outputId": "e964cf26-86e6-44c8-f58c-45a39d00b03f"
      },
      "source": [
        "pyplot.imshow(img)"
      ],
      "execution_count": null,
      "outputs": [
        {
          "output_type": "execute_result",
          "data": {
            "text/plain": [
              "<matplotlib.image.AxesImage at 0x7f1c18f30410>"
            ]
          },
          "metadata": {
            "tags": []
          },
          "execution_count": 143
        },
        {
          "output_type": "display_data",
          "data": {
            "image/png": "[encoded data removed]",
            "text/plain": [
              "<Figure size 432x288 with 1 Axes>"
            ]
          },
          "metadata": {
            "tags": [],
            "needs_background": "light"
          }
        }
      ]
    },
    {
      "cell_type": "code",
      "metadata": {
        "colab": {
          "base_uri": "https://localhost:8080/"
        },
        "id": "yv2taNJvG0C8",
        "outputId": "168149e4-02e8-4680-e55c-cdbf958f02e2"
      },
      "source": [
        "len(X)"
      ],
      "execution_count": null,
      "outputs": [
        {
          "output_type": "execute_result",
          "data": {
            "text/plain": [
              "2480"
            ]
          },
          "metadata": {
            "tags": []
          },
          "execution_count": 12
        }
      ]
    },
    {
      "cell_type": "markdown",
      "metadata": {
        "id": "bnYv12afTVGK"
      },
      "source": [
        "<li>Visualising the number of images per class.</li>"
      ]
    },
    {
      "cell_type": "code",
      "metadata": {
        "id": "51IdSsWwnNto"
      },
      "source": [
        "from collections import Counter\n",
        "counter=Counter(y)\n",
        "x_axis=[]\n",
        "y_axis=[]\n",
        "for k,v in counter.items():\n",
        "  x_axis.append(k)\n",
        "  y_axis.append(v)"
      ],
      "execution_count": null,
      "outputs": []
    },
    {
      "cell_type": "code",
      "metadata": {
        "colab": {
          "base_uri": "https://localhost:8080/",
          "height": 282
        },
        "id": "tTi9q1Ifoyu1",
        "outputId": "c67f65ec-73a5-4d89-f960-f1f40d13cf51"
      },
      "source": [
        "pyplot.bar(x_axis,y_axis)"
      ],
      "execution_count": null,
      "outputs": [
        {
          "output_type": "execute_result",
          "data": {
            "text/plain": [
              "<BarContainer object of 62 artists>"
            ]
          },
          "metadata": {
            "tags": []
          },
          "execution_count": 214
        },
        {
          "output_type": "display_data",
          "data": {
            "image/png": "[encoded data removed]",
            "text/plain": [
              "<Figure size 432x288 with 1 Axes>"
            ]
          },
          "metadata": {
            "tags": [],
            "needs_background": "light"
          }
        }
      ]
    },
    {
      "cell_type": "markdown",
      "metadata": {
        "id": "wwyGi0_uo1kj"
      },
      "source": [
        "<ul>From above bar graph it is clear that every class has equal number of images.</ul>"
      ]
    },
    {
      "cell_type": "markdown",
      "metadata": {
        "id": "NAEtJRuLjbrK"
      },
      "source": [
        "### Creating Model"
      ]
    },
    {
      "cell_type": "code",
      "metadata": {
        "id": "DHbCF-_BYFyO"
      },
      "source": [
        "from keras.models import Sequential\n",
        "from keras.layers.core import Flatten, Dense, Dropout\n",
        "from keras.layers.convolutional import Convolution2D, MaxPooling2D, ZeroPadding2D\n",
        "from keras.optimizers import SGD\n",
        "from keras.layers import Conv2D,MaxPooling2D, AveragePooling2D , BatchNormalization\n",
        "from keras.utils.np_utils import to_categorical\n",
        "from keras.optimizers import Adam\n",
        "from keras.regularizers import L2"
      ],
      "execution_count": null,
      "outputs": []
    },
    {
      "cell_type": "markdown",
      "metadata": {
        "id": "_wbGqMLSK8XP"
      },
      "source": [
        "<ul>Model consists of 3 Convolution Layers and then two fully connected layers and a softmax layer. The Architecture is :\n",
        "<li>Conv2d - 32 filters, 5x5 Filter Size , activation = relu</li>\n",
        "<li>BatchNormalization()</li>\n",
        "<li>MaxPooling of 2 x 2</li>\n",
        "<br>\n",
        "<li>Conv2d - 32 filters, 3x3 Filter Size , activation = relu</li>\n",
        "<li>BatchNormalization()</li>\n",
        "<li>MaxPooling of 2 x 2</li>\n",
        "<br>\n",
        "<li>Conv2d - 64 filters, 3x3 Filter Size , activation = relu</li>\n",
        "<li>BatchNormalization()</li>\n",
        "<li>MaxPooling of 2 x 2</li>\n",
        "<br>\n",
        "<li>Then the output of conv is then flattened.</li>\n",
        "<br>\n",
        "<li>Dense Layer - 128 Neurons, activation = relu </li>\n",
        "<br>\n",
        "<li>Dense Layer - 64 Neurons, activation = relu </li>\n",
        "<br>\n",
        "<li>Softmax Layer-62 Neurons, activation = relu </li>\n",
        "<br>\n",
        "<li>Used adam optimizer and categorical crossentropy loss function</li>\n",
        "</ul>"
      ]
    },
    {
      "cell_type": "markdown",
      "metadata": {
        "id": "CD5zmV-YTugZ"
      },
      "source": [
        "I chose this architecture as the dataset was small, hence if i had added more\n",
        "parameters in my model then it would have been overfitting and not able to produce good results on unseen data.\n",
        "<br>\n",
        "I added BartchNormalisation after every Conv layer so that every input to each layer would become standardized which would help in stabilizing the learning process.\n",
        "<br>\n",
        "MaxPooling is used to reduce the parameters of the model and the computation."
      ]
    },
    {
      "cell_type": "code",
      "metadata": {
        "id": "J7Kr7Mq54fHs"
      },
      "source": [
        "model=Sequential()\n",
        "model.add(Conv2D(32,(5,5),activation='relu',input_shape=(32,32,1)))\n",
        "model.add(BatchNormalization())\n",
        "model.add(MaxPooling2D(2,2))\n",
        "model.add(Conv2D(32,(3,3),activation='relu'))\n",
        "model.add(BatchNormalization())\n",
        "model.add(MaxPooling2D(2,2))\n",
        "model.add(Conv2D(64,(3,3),activation='relu'))\n",
        "model.add(BatchNormalization())\n",
        "model.add(MaxPooling2D(2,2))\n",
        "model.add(Flatten())\n",
        "model.add(Dense(128,activation='relu'))\n",
        "model.add(Dense(64,activation='relu'))\n",
        "model.add(Dense(62,activation='softmax'))"
      ],
      "execution_count": null,
      "outputs": []
    },
    {
      "cell_type": "code",
      "metadata": {
        "id": "MusO9g2s9RDZ"
      },
      "source": [
        "model.compile(optimizer='adam',loss='categorical_crossentropy',metrics=['accuracy'])"
      ],
      "execution_count": null,
      "outputs": []
    },
    {
      "cell_type": "code",
      "metadata": {
        "colab": {
          "base_uri": "https://localhost:8080/"
        },
        "id": "a-z_42yZ9lbB",
        "outputId": "c10ae846-e834-4cfe-ef15-00bd6b3e1cd3"
      },
      "source": [
        "model.summary()"
      ],
      "execution_count": null,
      "outputs": [
        {
          "output_type": "stream",
          "text": [
            "Model: \"sequential_19\"\n",
            "_________________________________________________________________\n",
            "Layer (type)                 Output Shape              Param #   \n",
            "=================================================================\n",
            "conv2d_57 (Conv2D)           (None, 28, 28, 32)        832       \n",
            "_________________________________________________________________\n",
            "batch_normalization_40 (Batc (None, 28, 28, 32)        128       \n",
            "_________________________________________________________________\n",
            "max_pooling2d_49 (MaxPooling (None, 14, 14, 32)        0         \n",
            "_________________________________________________________________\n",
            "conv2d_58 (Conv2D)           (None, 12, 12, 32)        9248      \n",
            "_________________________________________________________________\n",
            "batch_normalization_41 (Batc (None, 12, 12, 32)        128       \n",
            "_________________________________________________________________\n",
            "max_pooling2d_50 (MaxPooling (None, 6, 6, 32)          0         \n",
            "_________________________________________________________________\n",
            "conv2d_59 (Conv2D)           (None, 4, 4, 64)          18496     \n",
            "_________________________________________________________________\n",
            "batch_normalization_42 (Batc (None, 4, 4, 64)          256       \n",
            "_________________________________________________________________\n",
            "max_pooling2d_51 (MaxPooling (None, 2, 2, 64)          0         \n",
            "_________________________________________________________________\n",
            "flatten_19 (Flatten)         (None, 256)               0         \n",
            "_________________________________________________________________\n",
            "dense_55 (Dense)             (None, 128)               32896     \n",
            "_________________________________________________________________\n",
            "dense_56 (Dense)             (None, 64)                8256      \n",
            "_________________________________________________________________\n",
            "dense_57 (Dense)             (None, 62)                4030      \n",
            "=================================================================\n",
            "Total params: 74,270\n",
            "Trainable params: 74,014\n",
            "Non-trainable params: 256\n",
            "_________________________________________________________________\n"
          ],
          "name": "stdout"
        }
      ]
    },
    {
      "cell_type": "markdown",
      "metadata": {
        "id": "JytENin3je_j"
      },
      "source": [
        "### Splitting the dataset into Train and Cross-Validation"
      ]
    },
    {
      "cell_type": "code",
      "metadata": {
        "id": "zjdDczrgJRwT"
      },
      "source": [
        "from sklearn.model_selection import train_test_split\n",
        "from keras.utils import to_categorical\n",
        "from PIL import Image\n",
        "from keras.preprocessing import image\n",
        "from keras.preprocessing.image import ImageDataGenerator\n",
        "from matplotlib import pyplot\n",
        "import pickle\n",
        "from keras.callbacks import  ModelCheckpoint"
      ],
      "execution_count": null,
      "outputs": []
    },
    {
      "cell_type": "markdown",
      "metadata": {
        "id": "wC-BULy-ktgc"
      },
      "source": [
        "<ul>\n",
        "<li>Splitting the dataset into train and cross validation set.</li>\n",
        "<li>I splitted the train set into cross val set to keep a track of underfit,overfit and bestfit of the model.</li>\n",
        "</ul>"
      ]
    },
    {
      "cell_type": "code",
      "metadata": {
        "id": "1-BAP9wyJS2M"
      },
      "source": [
        "X_train, X_cv, y_train, y_cv = train_test_split(X,y, test_size=0.2, random_state=4)"
      ],
      "execution_count": null,
      "outputs": []
    },
    {
      "cell_type": "markdown",
      "metadata": {
        "id": "e-OWvuBCJTi3"
      },
      "source": [
        "Converting labels to categorical array\n",
        "\n"
      ]
    },
    {
      "cell_type": "code",
      "metadata": {
        "id": "OMG_gcQQK9XW"
      },
      "source": [
        "y_train=to_categorical(y_train,num_classes=62,dtype='int')\n",
        "y_cv=to_categorical(y_cv,num_classes=62,dtype='int')"
      ],
      "execution_count": null,
      "outputs": []
    },
    {
      "cell_type": "code",
      "metadata": {
        "colab": {
          "base_uri": "https://localhost:8080/"
        },
        "id": "_Iwi2y6HOq3F",
        "outputId": "86e9a32e-953b-4b82-de7a-1688bb99bdc2"
      },
      "source": [
        "y_train.shape"
      ],
      "execution_count": null,
      "outputs": [
        {
          "output_type": "execute_result",
          "data": {
            "text/plain": [
              "(1984, 62)"
            ]
          },
          "metadata": {
            "tags": []
          },
          "execution_count": 20
        }
      ]
    },
    {
      "cell_type": "markdown",
      "metadata": {
        "id": "KRq0c-ZGLTae"
      },
      "source": [
        "### Retrieving the images from the path"
      ]
    },
    {
      "cell_type": "markdown",
      "metadata": {
        "id": "LfyF_jb8g5kq"
      },
      "source": [
        "<ul><li>As the images had a lot of white spaces and only small portion contained the characters.</li> \n",
        "<li>I converted my images to grayscale and then i cropped the white spaces from the image and image only contained the portion which contained the character.</li>\n",
        "<li>The image is then resized to (32,32).</li>\n",
        "<li>The pixel values where then normalised so that each pixel value comes between 0 to 1.</li>\n",
        "<li>source:- <a href=\"url\">https://stackoverflow.com/questions/49907382/how-to-remove-whitespace-from-an-image-in-opencv</a></li>\n",
        "</ul>"
      ]
    },
    {
      "cell_type": "markdown",
      "metadata": {
        "id": "adwJtE0gIfi_"
      },
      "source": [
        "*covert_data_to_img*  function does the required preprocessing of the images."
      ]
    },
    {
      "cell_type": "code",
      "metadata": {
        "id": "Of8PyFCSOhc5"
      },
      "source": [
        "def convert_data_to_img(data_path,labels_vector):\n",
        "  img_vector=[]\n",
        "  pred=[]\n",
        "  for i in range(0,len(data_path)):\n",
        "    img=cv2.imread(main_path+data_path[i])\n",
        "    img_gray_scale=cv2.cvtColor(img,cv2.COLOR_BGR2GRAY)\n",
        "    gray=cv2.cvtColor(img,cv2.COLOR_BGR2GRAY)\n",
        "    gray=255*(gray<128)\n",
        "    coords=cv2.findNonZero(gray)\n",
        "    x,y,w,h=cv2.boundingRect(coords)\n",
        "    img_gray_scale=img_gray_scale[y:y+h,x:x+w]\n",
        "    data=Image.fromarray(img_gray_scale)\n",
        "    data=data.resize((32,32))\n",
        "    data=image.img_to_array(data)\n",
        "    data=data/225.0\n",
        "    img_vector.append(data)\n",
        "    pred.append(labels_vector[i])\n",
        "  \n",
        "  return np.array(img_vector),np.array(pred)"
      ],
      "execution_count": null,
      "outputs": []
    },
    {
      "cell_type": "code",
      "metadata": {
        "id": "H1Vf3U1FJU61"
      },
      "source": [
        "train_img_vector,y_train_pred=convert_data_to_img(X_train,y_train) # Converting train images into corresponding vectors."
      ],
      "execution_count": null,
      "outputs": []
    },
    {
      "cell_type": "code",
      "metadata": {
        "colab": {
          "base_uri": "https://localhost:8080/"
        },
        "id": "2pAGVjW5Olm4",
        "outputId": "cdf446d0-3ac0-4c9b-8f99-50ca168bf1f4"
      },
      "source": [
        "y_train_pred.shape"
      ],
      "execution_count": null,
      "outputs": [
        {
          "output_type": "execute_result",
          "data": {
            "text/plain": [
              "(1984, 62)"
            ]
          },
          "metadata": {
            "tags": []
          },
          "execution_count": 23
        }
      ]
    },
    {
      "cell_type": "code",
      "metadata": {
        "colab": {
          "base_uri": "https://localhost:8080/"
        },
        "id": "TaK4xI_2Rd7u",
        "outputId": "8de1c914-69b6-40d0-f581-ff57b93bf0a8"
      },
      "source": [
        "train_img_vector.shape"
      ],
      "execution_count": null,
      "outputs": [
        {
          "output_type": "execute_result",
          "data": {
            "text/plain": [
              "(1984, 32, 32, 1)"
            ]
          },
          "metadata": {
            "tags": []
          },
          "execution_count": 24
        }
      ]
    },
    {
      "cell_type": "code",
      "metadata": {
        "id": "RlTdC8T2J75g"
      },
      "source": [
        "with open(\"/content/drive/MyDrive/Saved_Material_task2_part 1/train_img_vector_normalised.pkl\",\"wb\") as d:\n",
        "  pickle.dump(train_img_vector,d)# Saving image vectors so for future purpose."
      ],
      "execution_count": null,
      "outputs": []
    },
    {
      "cell_type": "code",
      "metadata": {
        "id": "vhg2tP1rKW23"
      },
      "source": [
        "with open(\"/content/drive/MyDrive/Saved_Material_task2_part 1/train_pred_vector.pkl\",\"wb\") as d:\n",
        "  pickle.dump(y_train_pred,d) # Saving label vectors so for future purpose."
      ],
      "execution_count": null,
      "outputs": []
    },
    {
      "cell_type": "code",
      "metadata": {
        "colab": {
          "base_uri": "https://localhost:8080/"
        },
        "id": "i6FcZ9JoIBdX",
        "outputId": "fe3828e1-dc4f-40f3-fe7c-772d522a3c70"
      },
      "source": [
        "train_img_vector.shape # Checking the shape of the image vectors."
      ],
      "execution_count": null,
      "outputs": [
        {
          "output_type": "execute_result",
          "data": {
            "text/plain": [
              "(1984, 32, 32, 1)"
            ]
          },
          "metadata": {
            "tags": []
          },
          "execution_count": 15
        }
      ]
    },
    {
      "cell_type": "markdown",
      "metadata": {
        "id": "toZFLrfkIINQ"
      },
      "source": [
        "<ul>\n",
        "<li>Visualising first 9 images after preprocessing. Note:- The images are in grayscale.</li>\n",
        "</ul>"
      ]
    },
    {
      "cell_type": "code",
      "metadata": {
        "colab": {
          "base_uri": "https://localhost:8080/",
          "height": 268
        },
        "id": "OdvkQZ4tH1ge",
        "outputId": "74deb62a-fff0-4aaa-a2bd-76cc006d1009"
      },
      "source": [
        "for i in range(9):\n",
        "\t# define subplot\n",
        "\tpyplot.subplot(330 + 1 + i)\n",
        "\t# plot raw pixel data\n",
        "\tpyplot.imshow(train_img_vector[i].reshape(32,32))"
      ],
      "execution_count": null,
      "outputs": [
        {
          "output_type": "display_data",
          "data": {
            "image/png": "[encoded data removed]",
            "text/plain": [
              "<Figure size 432x288 with 9 Axes>"
            ]
          },
          "metadata": {
            "tags": [],
            "needs_background": "light"
          }
        }
      ]
    },
    {
      "cell_type": "code",
      "metadata": {
        "id": "NqbGFBDreeBC"
      },
      "source": [
        "X_img_cv,y_pred_cv=convert_data_to_img(X_cv,y_cv) # Converting cross val images into corresponding vectors."
      ],
      "execution_count": null,
      "outputs": []
    },
    {
      "cell_type": "code",
      "metadata": {
        "colab": {
          "base_uri": "https://localhost:8080/"
        },
        "id": "VMlk-hHFcWiM",
        "outputId": "a9f9d2e1-f002-4fb7-e175-62e6cea3074b"
      },
      "source": [
        "X_img_cv.shape # Checking the shape of the image vectors."
      ],
      "execution_count": null,
      "outputs": [
        {
          "output_type": "execute_result",
          "data": {
            "text/plain": [
              "(496, 32, 32, 1)"
            ]
          },
          "metadata": {
            "tags": []
          },
          "execution_count": 30
        }
      ]
    },
    {
      "cell_type": "code",
      "metadata": {
        "colab": {
          "base_uri": "https://localhost:8080/"
        },
        "id": "v_soH43mcJmY",
        "outputId": "37e1da51-2a5e-4720-8627-8b352f46cb3a"
      },
      "source": [
        "y_pred_cv.shape # Checking the shape of the prediction vectors."
      ],
      "execution_count": null,
      "outputs": [
        {
          "output_type": "execute_result",
          "data": {
            "text/plain": [
              "(496, 62)"
            ]
          },
          "metadata": {
            "tags": []
          },
          "execution_count": 31
        }
      ]
    },
    {
      "cell_type": "code",
      "metadata": {
        "id": "Dzb6en3XMLVN"
      },
      "source": [
        "import pickle\n",
        "with open(\"/content/drive/MyDrive/Saved_Material_task2_part 1/cross_val_img_vector_normalised.pkl\",\"wb\") as d:\n",
        "  pickle.dump(X_img_cv,d)# Saving image vectors so for future purpose."
      ],
      "execution_count": null,
      "outputs": []
    },
    {
      "cell_type": "code",
      "metadata": {
        "id": "W4Bx-fUzMSPq"
      },
      "source": [
        "import pickle\n",
        "with open(\"/content/drive/MyDrive/Saved_Material_task1/cross_val_pred_vector.pkl\",\"wb\") as d:\n",
        "  pickle.dump(y_pred_cv,d)# Saving label vectors so for future purpose."
      ],
      "execution_count": null,
      "outputs": []
    },
    {
      "cell_type": "code",
      "metadata": {
        "id": "uhAXdqUjIMtQ"
      },
      "source": [
        "X_img_cv=pd.read_pickle(\"/content/drive/MyDrive/Saved_Material_task2_part 1/cross_val_img_vector_normalised.pkl\")"
      ],
      "execution_count": null,
      "outputs": []
    },
    {
      "cell_type": "code",
      "metadata": {
        "id": "8zHCQR4dITUh"
      },
      "source": [
        "y_pred_cv=pd.read_pickle(\"/content/drive/MyDrive/Saved_Material_task2_part 1/cross_val_pred_vector.pkl\")"
      ],
      "execution_count": null,
      "outputs": []
    },
    {
      "cell_type": "markdown",
      "metadata": {
        "id": "dDtxuGtLXN3u"
      },
      "source": [
        "<ul>\n",
        "<li>Since the images in the dataset for each class where not so different from each other and the dataset was small.</li>\n",
        "<li>Hence i added some noise to the train set to bring diversity in the dataset for this i used the ImageDataGenerator of keras.</li>\n",
        "<li>I added width_shift_range which shifts the image to left or right randomly and the rotation range was set to 20 which rotates the image from -20 to +20.</li>\n",
        "<a href=\"url\">https://heartbeat.fritz.ai/overcoming-overfitting-in-image-classification-using-data-augmentation-9858c5cee986</a>\n",
        "</ul>"
      ]
    },
    {
      "cell_type": "code",
      "metadata": {
        "id": "9wbNocVDPDtJ"
      },
      "source": [
        "datagen = ImageDataGenerator(rotation_range=20,width_shift_range=0.1)"
      ],
      "execution_count": null,
      "outputs": []
    },
    {
      "cell_type": "markdown",
      "metadata": {
        "id": "oiHjj3-XUMp9"
      },
      "source": [
        "<ul>\n",
        "<li>Visualizing the images after applying the data generator</li> \n",
        "</ul>"
      ]
    },
    {
      "cell_type": "code",
      "metadata": {
        "colab": {
          "base_uri": "https://localhost:8080/",
          "height": 268
        },
        "id": "3iupkEZpYn7l",
        "outputId": "e011bf5f-27c1-48c8-c5de-153093ddcf8f"
      },
      "source": [
        "for X_batch, y_batch in datagen.flow(train_img_vector, y_train_pred, batch_size=9):\n",
        "    # Show 9 images\n",
        "    for i in range(0, 9):\n",
        "        pyplot.subplot(330 + 1 + i)\n",
        "        pyplot.imshow(X_batch[i].reshape(32,32))\n",
        "    # show the plot\n",
        "    pyplot.show()\n",
        "    break"
      ],
      "execution_count": null,
      "outputs": [
        {
          "output_type": "display_data",
          "data": {
            "image/png": "[encoded data removed]",
            "text/plain": [
              "<Figure size 432x288 with 9 Axes>"
            ]
          },
          "metadata": {
            "tags": [],
            "needs_background": "light"
          }
        }
      ]
    },
    {
      "cell_type": "markdown",
      "metadata": {
        "id": "5zFgWrfQe8EB"
      },
      "source": [
        "### Training the model"
      ]
    },
    {
      "cell_type": "markdown",
      "metadata": {
        "id": "rVBdtYQH2HTd"
      },
      "source": [
        "<li>Setting path to save model checkpoints.</li>"
      ]
    },
    {
      "cell_type": "code",
      "metadata": {
        "id": "llPCKMBGOawS"
      },
      "source": [
        "model_path='Model.epoch{epoch:02d}.hdf5'\n",
        "checkpoint= ModelCheckpoint(filepath='/content/drive/MyDrive/Saved_Material_task2_part 1/'+model_path,verbose=1)"
      ],
      "execution_count": null,
      "outputs": []
    },
    {
      "cell_type": "markdown",
      "metadata": {
        "id": "5IwVh1sf2J3t"
      },
      "source": [
        "Training on the training dataset."
      ]
    },
    {
      "cell_type": "code",
      "metadata": {
        "colab": {
          "base_uri": "https://localhost:8080/"
        },
        "id": "z8o1ZmUCRnC1",
        "outputId": "cd04fee5-4ea7-412f-b3df-c843df09f784"
      },
      "source": [
        "callbacks=[checkpoint]\n",
        "history = model.fit(datagen.flow(train_img_vector,y_train_pred,batch_size=32),validation_data=(X_img_cv,y_pred_cv),steps_per_epoch=len(train_img_vector)//32,epochs=15,callbacks=callbacks)"
      ],
      "execution_count": null,
      "outputs": [
        {
          "output_type": "stream",
          "text": [
            "Epoch 1/15\n",
            "62/62 [==============================] - 5s 63ms/step - loss: 4.0535 - accuracy: 0.0786 - val_loss: 4.0790 - val_accuracy: 0.0282\n",
            "\n",
            "Epoch 00001: saving model to /content/drive/MyDrive/Saved_Material_task1/Model.epoch01.hdf5\n",
            "Epoch 2/15\n",
            "62/62 [==============================] - 4s 58ms/step - loss: 2.4320 - accuracy: 0.3762 - val_loss: 4.1344 - val_accuracy: 0.0363\n",
            "\n",
            "Epoch 00002: saving model to /content/drive/MyDrive/Saved_Material_task1/Model.epoch02.hdf5\n",
            "Epoch 3/15\n",
            "62/62 [==============================] - 4s 59ms/step - loss: 1.3848 - accuracy: 0.6197 - val_loss: 4.1647 - val_accuracy: 0.0403\n",
            "\n",
            "Epoch 00003: saving model to /content/drive/MyDrive/Saved_Material_task1/Model.epoch03.hdf5\n",
            "Epoch 4/15\n",
            "62/62 [==============================] - 4s 60ms/step - loss: 1.1423 - accuracy: 0.6744 - val_loss: 4.0766 - val_accuracy: 0.0625\n",
            "\n",
            "Epoch 00004: saving model to /content/drive/MyDrive/Saved_Material_task1/Model.epoch04.hdf5\n",
            "Epoch 5/15\n",
            "62/62 [==============================] - 4s 58ms/step - loss: 0.8926 - accuracy: 0.7332 - val_loss: 3.0515 - val_accuracy: 0.1552\n",
            "\n",
            "Epoch 00005: saving model to /content/drive/MyDrive/Saved_Material_task1/Model.epoch05.hdf5\n",
            "Epoch 6/15\n",
            "62/62 [==============================] - 4s 59ms/step - loss: 0.8020 - accuracy: 0.7551 - val_loss: 2.1419 - val_accuracy: 0.3911\n",
            "\n",
            "Epoch 00006: saving model to /content/drive/MyDrive/Saved_Material_task1/Model.epoch06.hdf5\n",
            "Epoch 7/15\n",
            "62/62 [==============================] - 4s 59ms/step - loss: 0.6634 - accuracy: 0.7855 - val_loss: 1.1514 - val_accuracy: 0.6714\n",
            "\n",
            "Epoch 00007: saving model to /content/drive/MyDrive/Saved_Material_task1/Model.epoch07.hdf5\n",
            "Epoch 8/15\n",
            "62/62 [==============================] - 4s 59ms/step - loss: 0.6171 - accuracy: 0.7887 - val_loss: 0.8205 - val_accuracy: 0.7621\n",
            "\n",
            "Epoch 00008: saving model to /content/drive/MyDrive/Saved_Material_task1/Model.epoch08.hdf5\n",
            "Epoch 9/15\n",
            "62/62 [==============================] - 4s 59ms/step - loss: 0.5927 - accuracy: 0.8032 - val_loss: 0.6904 - val_accuracy: 0.7883\n",
            "\n",
            "Epoch 00009: saving model to /content/drive/MyDrive/Saved_Material_task1/Model.epoch09.hdf5\n",
            "Epoch 10/15\n",
            "62/62 [==============================] - 4s 60ms/step - loss: 0.5446 - accuracy: 0.8280 - val_loss: 0.7503 - val_accuracy: 0.7661\n",
            "\n",
            "Epoch 00010: saving model to /content/drive/MyDrive/Saved_Material_task1/Model.epoch10.hdf5\n",
            "Epoch 11/15\n",
            "62/62 [==============================] - 4s 60ms/step - loss: 0.5150 - accuracy: 0.8341 - val_loss: 0.7977 - val_accuracy: 0.7802\n",
            "\n",
            "Epoch 00011: saving model to /content/drive/MyDrive/Saved_Material_task1/Model.epoch11.hdf5\n",
            "Epoch 12/15\n",
            "62/62 [==============================] - 4s 59ms/step - loss: 0.4921 - accuracy: 0.8198 - val_loss: 0.6833 - val_accuracy: 0.7802\n",
            "\n",
            "Epoch 00012: saving model to /content/drive/MyDrive/Saved_Material_task1/Model.epoch12.hdf5\n",
            "Epoch 13/15\n",
            "62/62 [==============================] - 4s 59ms/step - loss: 0.4702 - accuracy: 0.8254 - val_loss: 0.7000 - val_accuracy: 0.7661\n",
            "\n",
            "Epoch 00013: saving model to /content/drive/MyDrive/Saved_Material_task1/Model.epoch13.hdf5\n",
            "Epoch 14/15\n",
            "62/62 [==============================] - 4s 59ms/step - loss: 0.4400 - accuracy: 0.8405 - val_loss: 0.6429 - val_accuracy: 0.8165\n",
            "\n",
            "Epoch 00014: saving model to /content/drive/MyDrive/Saved_Material_task1/Model.epoch14.hdf5\n",
            "Epoch 15/15\n",
            "62/62 [==============================] - 4s 59ms/step - loss: 0.3823 - accuracy: 0.8507 - val_loss: 0.7010 - val_accuracy: 0.7863\n",
            "\n",
            "Epoch 00015: saving model to /content/drive/MyDrive/Saved_Material_task1/Model.epoch15.hdf5\n"
          ],
          "name": "stdout"
        }
      ]
    },
    {
      "cell_type": "markdown",
      "metadata": {
        "id": "2FZYq9CIe5XE"
      },
      "source": [
        "<ul>\n",
        "<li>Plotting the graph for accuracy</li>\n",
        "</ul>"
      ]
    },
    {
      "cell_type": "code",
      "metadata": {
        "id": "4DSW0LWaW2uV",
        "colab": {
          "base_uri": "https://localhost:8080/",
          "height": 265
        },
        "outputId": "0e2e7edf-9d6b-4371-f4b0-fdda49823436"
      },
      "source": [
        "pyplot.plot(history.history['accuracy'], label='train')\n",
        "pyplot.plot(history.history['val_accuracy'], label='cross_val')\n",
        "pyplot.legend()\n",
        "pyplot.show()"
      ],
      "execution_count": null,
      "outputs": [
        {
          "output_type": "display_data",
          "data": {
            "image/png": "[encoded data removed]",
            "text/plain": [
              "<Figure size 432x288 with 1 Axes>"
            ]
          },
          "metadata": {
            "tags": [],
            "needs_background": "light"
          }
        }
      ]
    },
    {
      "cell_type": "markdown",
      "metadata": {
        "id": "ex1JYs1rfI6t"
      },
      "source": [
        "<ul>\n",
        "<li>The graph for loss.</li>\n",
        "<li>As infered from the loss b/w train and cross validation set the best fit model is between 8-10 these epochs i.e lower bound=8 and upper bound=10 these epochs. </li>\n",
        "<li>Before the lower bound epoch the model is underfitting (low bias) and beyond the upper bound the model is overfitting (high variance).</li>\n",
        "<li>Hence I would be choosing the 9th epoch for the further parts.</li>\n",
        "<li>The train accuracy = 0.8032 and val accuracy = 0.7883</li>\n",
        "<li>source:- <a href=\"url\">https://medium.com/@minions.k/underfit-and-overfit-explained-8161559b37db</a></li>\n",
        "</ul>"
      ]
    },
    {
      "cell_type": "code",
      "metadata": {
        "id": "sROYz6sDcWso",
        "colab": {
          "base_uri": "https://localhost:8080/",
          "height": 265
        },
        "outputId": "35e0754f-f9b2-4087-ce75-c8b77595669b"
      },
      "source": [
        "pyplot.plot(history.history['loss'], label='train')\n",
        "pyplot.plot(history.history['val_loss'], label='cross_val')\n",
        "pyplot.legend()\n",
        "pyplot.show()"
      ],
      "execution_count": null,
      "outputs": [
        {
          "output_type": "display_data",
          "data": {
            "image/png": "[encoded data removed]",
            "text/plain": [
              "<Figure size 432x288 with 1 Axes>"
            ]
          },
          "metadata": {
            "tags": [],
            "needs_background": "light"
          }
        }
      ]
    },
    {
      "cell_type": "markdown",
      "metadata": {
        "id": "T2OvAx30yghg"
      },
      "source": [
        "For Testing:-\n",
        "<li>Preprocess The image according to the preprocessing steps applied in the function convert_data_to_img.</li>"
      ]
    },
    {
      "cell_type": "code",
      "metadata": {
        "id": "46HlpVZ1cxfm"
      },
      "source": [
        ""
      ],
      "execution_count": null,
      "outputs": []
    }
  ]
}